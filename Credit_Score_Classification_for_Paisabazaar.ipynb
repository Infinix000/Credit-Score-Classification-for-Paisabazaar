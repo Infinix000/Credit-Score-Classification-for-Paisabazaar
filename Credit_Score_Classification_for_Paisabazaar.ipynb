{
  "nbformat": 4,
  "nbformat_minor": 0,
  "metadata": {
    "colab": {
      "private_outputs": true,
      "provenance": [],
      "collapsed_sections": [
        "vncDsAP0Gaoa",
        "FJNUwmbgGyua",
        "w6K7xa23Elo4",
        "yQaldy8SH6Dl",
        "mDgbUHAGgjLW",
        "O_i_v8NEhb9l",
        "HhfV-JJviCcP",
        "Y3lxredqlCYt",
        "3RnN4peoiCZX",
        "x71ZqKXriCWQ",
        "7hBIi_osiCS2",
        "JlHwYmJAmNHm",
        "35m5QtbWiB9F",
        "PoPl-ycgm1ru",
        "H0kj-8xxnORC",
        "nA9Y7ga8ng1Z",
        "PBTbrJXOngz2",
        "u3PMJOP6ngxN",
        "dauF4eBmngu3",
        "bKJF3rekwFvQ",
        "MSa1f5Uengrz",
        "GF8Ens_Soomf",
        "0wOQAZs5pc--",
        "K5QZ13OEpz2H",
        "lQ7QKXXCp7Bj",
        "448CDAPjqfQr",
        "KSlN3yHqYklG",
        "t6dVpIINYklI",
        "ijmpgYnKYklI",
        "-JiQyfWJYklI",
        "EM7whBJCYoAo",
        "fge-S5ZAYoAp",
        "85gYPyotYoAp",
        "RoGjAbkUYoAp",
        "4Of9eVA-YrdM",
        "iky9q4vBYrdO",
        "F6T5p64dYrdO",
        "y-Ehk30pYrdP",
        "bamQiAODYuh1",
        "QHF8YVU7Yuh3",
        "GwzvFGzlYuh3",
        "qYpmQ266Yuh3",
        "OH-pJp9IphqM",
        "bbFf2-_FphqN",
        "_ouA3fa0phqN",
        "Seke61FWphqN",
        "PIIx-8_IphqN",
        "t27r6nlMphqO",
        "r2jJGEOYphqO",
        "b0JNsNcRphqO",
        "BZR9WyysphqO",
        "jj7wYXLtphqO",
        "eZrbJ2SmphqO",
        "rFu4xreNphqO",
        "YJ55k-q6phqO",
        "gCFgpxoyphqP",
        "OVtJsKN_phqQ",
        "lssrdh5qphqQ",
        "U2RJ9gkRphqQ",
        "1M8mcRywphqQ",
        "tgIPom80phqQ",
        "JMzcOPDDphqR",
        "x-EpHcCOp1ci",
        "X_VqEhTip1ck",
        "8zGJKyg5p1ck",
        "PVzmfK_Ep1ck",
        "n3dbpmDWp1ck",
        "ylSl6qgtp1ck",
        "ZWILFDl5p1ck",
        "M7G43BXep1ck",
        "Ag9LCva-p1cl",
        "E6MkPsBcp1cl",
        "2cELzS2fp1cl",
        "3MPXvC8up1cl",
        "NC_X3p0fY2L0",
        "UV0SzAkaZNRQ",
        "YPEH6qLeZNRQ",
        "q29F0dvdveiT",
        "EXh0U9oCveiU",
        "22aHeOlLveiV",
        "g-ATYxFrGrvw",
        "Yfr_Vlr8HBkt",
        "8yEUt7NnHlrM",
        "tEA2Xm5dHt1r",
        "I79__PHVH19G",
        "Ou-I18pAyIpj",
        "fF3858GYyt-u",
        "4_0_7-oCpUZd",
        "hwyV_J3ipUZe",
        "3yB-zSqbpUZe",
        "dEUvejAfpUZe",
        "Fd15vwWVpUZf",
        "bn_IUdTipZyH",
        "49K5P_iCpZyH",
        "Nff-vKELpZyI",
        "kLW572S8pZyI",
        "dWbDXHzopZyI",
        "yLjJCtPM0KBk",
        "xiyOF9F70UgQ",
        "7wuGOrhz0itI",
        "id1riN9m0vUs",
        "578E2V7j08f6",
        "89xtkJwZ18nB",
        "67NQN5KX2AMe",
        "Iwf50b-R2tYG",
        "GMQiZwjn3iu7",
        "WVIkgGqN3qsr",
        "XkPnILGE3zoT",
        "Hlsf0x5436Go",
        "mT9DMSJo4nBL",
        "c49ITxTc407N",
        "OeJFEK0N496M",
        "9ExmJH0g5HBk",
        "cJNqERVU536h",
        "k5UmGsbsOxih",
        "T0VqWOYE6DLQ",
        "qBMux9mC6MCf",
        "-oLEiFgy-5Pf",
        "C74aWNz2AliB",
        "2DejudWSA-a0",
        "pEMng2IbBLp7",
        "rAdphbQ9Bhjc",
        "TNVZ9zx19K6k",
        "nqoHp30x9hH9",
        "rMDnDkt2B6du",
        "yiiVWRdJDDil",
        "1UUpS68QDMuG",
        "kexQrXU-DjzY",
        "T5CmagL3EC8N",
        "BhH2vgX9EjGr",
        "qjKvONjwE8ra",
        "P1XJ9OREExlT",
        "VFOzZv6IFROw",
        "TIqpNgepFxVj",
        "VfCC591jGiD4",
        "OB4l2ZhMeS1U",
        "ArJBuiUVfxKd",
        "4qY1EAkEfxKe",
        "PiV4Ypx8fxKe",
        "TfvqoZmBfxKf",
        "dJ2tPlVmpsJ0",
        "JWYfwnehpsJ1",
        "-jK_YjpMpsJ2",
        "HAih1iBOpsJ2",
        "zVGeBEFhpsJ2",
        "bmKjuQ-FpsJ3",
        "Fze-IPXLpx6K",
        "7AN1z2sKpx6M",
        "9PIHJqyupx6M",
        "_-qAgymDpx6N",
        "Z-hykwinpx6N",
        "h_CCil-SKHpo",
        "cBFFvTBNJzUa",
        "HvGl1hHyA_VK",
        "EyNgTHvd2WFk",
        "KH5McJBi2d8v",
        "iW_Lq9qf2h6X",
        "-Kee-DAl2viO",
        "gCX9965dhzqZ",
        "gIfDvo9L0UH2"
      ],
      "cell_execution_strategy": "setup"
    },
    "kernelspec": {
      "name": "python3",
      "display_name": "Python 3"
    },
    "language_info": {
      "name": "python"
    }
  },
  "cells": [
    {
      "cell_type": "markdown",
      "source": [
        "# **Project Name**    -Credit Score Classification for Paisabazaar\n",
        "\n"
      ],
      "metadata": {
        "id": "vncDsAP0Gaoa"
      }
    },
    {
      "cell_type": "markdown",
      "source": [
        "# **Project Summary -**"
      ],
      "metadata": {
        "id": "FJNUwmbgGyua"
      }
    },
    {
      "cell_type": "markdown",
      "source": [
        "Paisabazaar, a financial services platform, helps customers access loans and credit products. Credit score is a key metric for lenders to assess repayment capacity and manage risks. This project focuses on predicting credit scores (Good, Standard, Poor) using customer financial and behavioral data.\n",
        "\n",
        "## Data Collection and Cleaning :\n",
        "\n",
        "The dataset of 100,000 records included income, debt, loan types, repayment history, and demographics. Raw data was cleaned by handling missing values, encoding categorical variables (e.g., occupation, payment behavior), and normalizing numerical features like income and outstanding debt.\n",
        "A special challenge was the Type of Loan column, where customers often had multiple loans (auto, personal, home equity, etc.). This was managed by creating binary indicators for each loan type. The processed dataset provided a reliable foundation for analysis.\n",
        "\n",
        "## Data Visualization and Insights :\n",
        "\n",
        "Exploratory Data Analysis revealed that:\n",
        "\n",
        "* Income & Balance: Higher income and steady balances were linked to good credit scores.\n",
        "\n",
        "* Repayment Behavior: Frequent delays and high outstanding debt strongly correlated with poor scores.\n",
        "\n",
        "* Loan Types: Customers juggling multiple loans, especially personal and auto loans, faced higher risks.\n",
        "\n",
        "* Credit Utilization: High utilization ratios indicated financial stress and poor creditworthiness.\n",
        "\n",
        "Overall, behavioral consistency in payments emerged as more important than income alone.\n",
        "\n",
        "## Model Development and Results:\n",
        "\n",
        "Machine learning models were built using Random Forest and XGBoost. Data was split into 80% training and 20% testing. XGBoost achieved the best performance, with strong accuracy and recall. Feature importance analysis confirmed that delayed payments, outstanding debt, annual income, and utilization ratio were the strongest predictors of credit score.\n",
        "\n",
        "\n",
        "\n",
        "The project showed that credit scores can be reliably predicted through financial and behavioral data.By integrating this model, Paisabazaar can:\n",
        "\n",
        "* Flag high-risk customers early.\n",
        "\n",
        "* Offer tailored products to different credit score segments.\n",
        "\n",
        "* Improve risk management while providing fairer, personalized financial solutions.\n",
        "\n",
        "This approach strengthens decision-making and enhances both customer trust and business outcomes.\n",
        "\n"
      ],
      "metadata": {
        "id": "F6v_1wHtG2nS"
      }
    },
    {
      "cell_type": "markdown",
      "source": [
        "# **GitHub Link -**"
      ],
      "metadata": {
        "id": "w6K7xa23Elo4"
      }
    },
    {
      "cell_type": "markdown",
      "source": [
        "Provide your GitHub Link here."
      ],
      "metadata": {
        "id": "h1o69JH3Eqqn"
      }
    },
    {
      "cell_type": "markdown",
      "source": [
        "# **Problem Statement**\n"
      ],
      "metadata": {
        "id": "yQaldy8SH6Dl"
      }
    },
    {
      "cell_type": "markdown",
      "source": [
        ">1.Paisabazaar needs to accurately assess the creditworthiness of its customers to make informed loan approval and risk management decisions.\n",
        "\n",
        ">2.Current processes require a systematic method to classify individuals’ credit scores using available customer data.\n",
        "\n",
        ">3.Predicting credit scores based on features like income, credit card usage, and payment behavior will help reduce loan default risks.\n",
        "\n",
        ">4.Accurate credit score classification can enable personalized financial product recommendations and improve overall customer service.\n",
        "\n",
        ">5.The goal is to develop a predictive model that can classify individuals’ credit scores effectively, supporting better financial decision-making."
      ],
      "metadata": {
        "id": "DpeJGUA3kjGy"
      }
    },
    {
      "cell_type": "markdown",
      "source": [
        "## ***1. Know Your Data***"
      ],
      "metadata": {
        "id": "HhfV-JJviCcP"
      }
    },
    {
      "cell_type": "markdown",
      "source": [
        "### Import Libraries"
      ],
      "metadata": {
        "id": "Y3lxredqlCYt"
      }
    },
    {
      "cell_type": "code",
      "source": [
        "# Import Libraries\n",
        "import warnings\n",
        "warnings.filterwarnings(\"ignore\")\n",
        "\n",
        "import pandas as pd\n",
        "import numpy as np\n",
        "import matplotlib.pyplot as plt\n",
        "import seaborn as sns\n",
        "sns.set(style=\"whitegrid\")\n",
        "\n",
        "from sklearn.model_selection import train_test_split, GridSearchCV, RandomizedSearchCV\n",
        "from sklearn.preprocessing import StandardScaler, LabelEncoder, MultiLabelBinarizer\n",
        "from sklearn.impute import SimpleImputer\n",
        "from sklearn.metrics import classification_report, confusion_matrix, accuracy_score, f1_score\n",
        "from sklearn.ensemble import RandomForestClassifier\n",
        "from xgboost import XGBClassifier\n",
        "import joblib\n",
        "import os\n",
        "RND = 42"
      ],
      "metadata": {
        "id": "M8Vqi-pPk-HR"
      },
      "execution_count": null,
      "outputs": []
    },
    {
      "cell_type": "markdown",
      "source": [
        "### Dataset Loading"
      ],
      "metadata": {
        "id": "3RnN4peoiCZX"
      }
    },
    {
      "cell_type": "code",
      "source": [
        "# Load Dataset\n",
        "df = pd.read_csv(\"/content/drive/MyDrive/dataset-2.csv\")"
      ],
      "metadata": {
        "id": "4CkvbW_SlZ_R"
      },
      "execution_count": null,
      "outputs": []
    },
    {
      "cell_type": "markdown",
      "source": [
        "### Dataset First View"
      ],
      "metadata": {
        "id": "x71ZqKXriCWQ"
      }
    },
    {
      "cell_type": "code",
      "source": [
        "from google.colab import drive\n",
        "drive.mount('/content/drive')"
      ],
      "metadata": {
        "id": "yIe_KZC1ULAu"
      },
      "execution_count": null,
      "outputs": []
    },
    {
      "cell_type": "code",
      "source": [
        "# Dataset First Look\n",
        "display(df.head())"
      ],
      "metadata": {
        "id": "LWNFOSvLl09H"
      },
      "execution_count": null,
      "outputs": []
    },
    {
      "cell_type": "markdown",
      "source": [
        "### Dataset Rows & Columns count"
      ],
      "metadata": {
        "id": "7hBIi_osiCS2"
      }
    },
    {
      "cell_type": "code",
      "source": [
        "# Dataset Rows & Columns count\n",
        "print(\"Shape:\", df.shape)"
      ],
      "metadata": {
        "id": "Kllu7SJgmLij"
      },
      "execution_count": null,
      "outputs": []
    },
    {
      "cell_type": "markdown",
      "source": [
        "### Dataset Information"
      ],
      "metadata": {
        "id": "JlHwYmJAmNHm"
      }
    },
    {
      "cell_type": "code",
      "source": [
        "# Dataset Info\n",
        "df.info()"
      ],
      "metadata": {
        "id": "e9hRXRi6meOf"
      },
      "execution_count": null,
      "outputs": []
    },
    {
      "cell_type": "markdown",
      "source": [
        "#### Duplicate Values"
      ],
      "metadata": {
        "id": "35m5QtbWiB9F"
      }
    },
    {
      "cell_type": "code",
      "source": [
        "# Dataset Duplicate Value Count\n",
        "print(\"Duplicate Values:\", df.duplicated().sum())"
      ],
      "metadata": {
        "id": "1sLdpKYkmox0"
      },
      "execution_count": null,
      "outputs": []
    },
    {
      "cell_type": "markdown",
      "source": [
        "#### Missing Values/Null Values"
      ],
      "metadata": {
        "id": "PoPl-ycgm1ru"
      }
    },
    {
      "cell_type": "code",
      "source": [
        "# Missing Values/Null Values Count\n",
        "df.isnull().sum()"
      ],
      "metadata": {
        "id": "GgHWkxvamxVg"
      },
      "execution_count": null,
      "outputs": []
    },
    {
      "cell_type": "markdown",
      "source": [
        "### What did you know about your dataset?"
      ],
      "metadata": {
        "id": "H0kj-8xxnORC"
      }
    },
    {
      "cell_type": "markdown",
      "source": [
        "# Dataset Description: Credit Score Prediction\n",
        "\n",
        "The dataset consists of 100,000 records with 27 features related to customer financial behavior and demographic details. The goal is to predict the Credit_Score of individuals.\n",
        "\n",
        "## 1. Customer and Demographic Information\n",
        "\n",
        "* ID / Customer_ID (int64): Unique identifiers for each record and customer.\n",
        "\n",
        "* Name (object): Customer name.\n",
        "\n",
        "* Age (float64): Age of the customer.\n",
        "\n",
        "* SSN (float64): Social Security Number of the customer.\n",
        "\n",
        "* Occupation (object): Profession of the customer.\n",
        "\n",
        "## 2. Income and Salary Details\n",
        "\n",
        "* Annual_Income (float64): Yearly income of the customer.\n",
        "\n",
        "* Monthly_Inhand_Salary (float64): Monthly take-home salary after deductions.\n",
        "\n",
        "## 3. Banking and Credit Details\n",
        "\n",
        "* Interest_Rate (float64): Interest rate applicable on loans or credit.\n",
        "\n",
        "* Num_of_Loan (float64): Number of loans taken.\n",
        "\n",
        "* Type_of_Loan (object): Type/category of loans held.\n",
        "\n",
        "* Delay_from_due_date (float64): Number of days payment was delayed from due date.\n",
        "\n",
        "* Num_of_Delayed_Payment (float64): Count of delayed payments.\n",
        "\n",
        "* Changed_Credit_Limit (float64): Number of times the credit limit was changed.\n",
        "\n",
        "* Num_Credit_Inquiries (float64): Number of credit inquiries in the recent period.\n",
        "\n",
        "* Credit_Mix (object): Mix of different credit types (good, average, poor).\n",
        "\n",
        "* Outstanding_Debt (float64): Total outstanding debt.\n",
        "\n",
        "* Credit_Utilization_Ratio (float64): Ratio of used credit to available credit.\n",
        "\n",
        "* Credit_History_Age (float64): Duration of credit history in months or years.\n",
        "\n",
        "* Payment_of_Min_Amount (object): Indicates if the minimum payment is paid regularly.\n",
        "\n",
        "* Total_EMI_per_month (float64): Total monthly EMI for loans.\n",
        "\n",
        "* Amount_invested_monthly (float64): Monthly investments made by the customer.\n",
        "\n",
        "* Payment_Behaviour (object): Customer payment behavior (e.g., regular, delayed).\n",
        "\n",
        "* Monthly_Balance (float64): Monthly balance in bank accounts.\n",
        "\n",
        "## 4. Target Variable\n",
        "\n",
        "* Credit_Score (object): Classification of credit score (e.g., Poor, Standard, Good)."
      ],
      "metadata": {
        "id": "gfoNAAC-nUe_"
      }
    },
    {
      "cell_type": "markdown",
      "source": [
        "## ***2. Understanding Your Variables***"
      ],
      "metadata": {
        "id": "nA9Y7ga8ng1Z"
      }
    },
    {
      "cell_type": "code",
      "source": [
        "# Dataset Columns\n",
        "df.columns"
      ],
      "metadata": {
        "id": "j7xfkqrt5Ag5"
      },
      "execution_count": null,
      "outputs": []
    },
    {
      "cell_type": "code",
      "source": [
        "# Dataset Describe\n",
        "df.describe()"
      ],
      "metadata": {
        "id": "DnOaZdaE5Q5t"
      },
      "execution_count": null,
      "outputs": []
    },
    {
      "cell_type": "markdown",
      "source": [
        "### Check Unique Values for each variable."
      ],
      "metadata": {
        "id": "u3PMJOP6ngxN"
      }
    },
    {
      "cell_type": "code",
      "source": [
        "# Check Unique Values for each variable.\n",
        "df.nunique()"
      ],
      "metadata": {
        "id": "zms12Yq5n-jE"
      },
      "execution_count": null,
      "outputs": []
    },
    {
      "cell_type": "markdown",
      "source": [
        "## 3. ***Data Wrangling***"
      ],
      "metadata": {
        "id": "dauF4eBmngu3"
      }
    },
    {
      "cell_type": "markdown",
      "source": [
        "### Data Wrangling Code"
      ],
      "metadata": {
        "id": "bKJF3rekwFvQ"
      }
    },
    {
      "cell_type": "code",
      "source": [
        "# Write your code to make your dataset analysis ready.\n",
        "\n",
        "def process_loan_count(df):\n",
        "    \"\"\"\n",
        "    Function to clean and create a final loan count column\n",
        "    using both Num_of_Loan and Type_of_Loan.\n",
        "    \"\"\"\n",
        "\n",
        "    # 1. Ensure Num_of_Loan is numeric\n",
        "    df[\"Num_of_Loan\"] = pd.to_numeric(df[\"Num_of_Loan\"], errors=\"coerce\")\n",
        "\n",
        "    # 2. Extract loan count from Type_of_Loan\n",
        "    # - If string: count commas\n",
        "    # - If missing/NaN: assign 0\n",
        "    df[\"Loan_Count_From_Type\"] = df[\"Type_of_Loan\"].apply(\n",
        "        lambda x: len(x.split(\",\")) if isinstance(x, str) else 0\n",
        "    )\n",
        "\n",
        "    # 3. Create Final Loan Count column\n",
        "    df[\"Final_Loan_Count\"] = df[\"Num_of_Loan\"].fillna(df[\"Loan_Count_From_Type\"]).astype(int)\n",
        "\n",
        "    return df\n",
        "\n",
        "df = process_loan_count(df)\n",
        "\n",
        "print(df[[\"Num_of_Loan\", \"Type_of_Loan\", \"Loan_Count_From_Type\", \"Final_Loan_Count\"]].head())\n"
      ],
      "metadata": {
        "id": "wk-9a2fpoLcV"
      },
      "execution_count": null,
      "outputs": []
    },
    {
      "cell_type": "code",
      "source": [
        "# Drop obviously irrelevant or sensitive columns if present\n",
        "for col in [\"ID\", \"Name\", \"SSN\"]:\n",
        "    if col in df.columns:\n",
        "        df.drop(columns=[col], inplace=True)"
      ],
      "metadata": {
        "id": "gQFTGcD6UzXC"
      },
      "execution_count": null,
      "outputs": []
    },
    {
      "cell_type": "markdown",
      "source": [
        "## 4. Data Vizualization"
      ],
      "metadata": {
        "id": "GF8Ens_Soomf"
      }
    },
    {
      "cell_type": "markdown",
      "source": [
        "## Univarient Analysis"
      ],
      "metadata": {
        "id": "8c7sDmJUTv7z"
      }
    },
    {
      "cell_type": "markdown",
      "source": [
        "#### Distributions of Age"
      ],
      "metadata": {
        "id": "0wOQAZs5pc--"
      }
    },
    {
      "cell_type": "code",
      "source": [
        "# Numerical distributions\n",
        "sns.histplot(df['Age'],bins=5,color='olive',kde=True)\n",
        "plt.suptitle(\" Distributions of Age\")\n",
        "plt.show()"
      ],
      "metadata": {
        "id": "7v_ESjsspbW7"
      },
      "execution_count": null,
      "outputs": []
    },
    {
      "cell_type": "markdown",
      "source": [
        "Most of the Customers are middle aged."
      ],
      "metadata": {
        "id": "XESiWehPqBRc"
      }
    },
    {
      "cell_type": "markdown",
      "source": [
        "####  Distributions of Annual_Income"
      ],
      "metadata": {
        "id": "KSlN3yHqYklG"
      }
    },
    {
      "cell_type": "code",
      "source": [
        "# Numerical distributions\n",
        "sns.histplot(df['Annual_Income'],bins=10,color='olive',kde=True)\n",
        "plt.suptitle(\" Distributions of Annual_Income\")\n",
        "plt.show()"
      ],
      "metadata": {
        "id": "R4YgtaqtYklH"
      },
      "execution_count": null,
      "outputs": []
    },
    {
      "cell_type": "markdown",
      "source": [
        "##### chat shows that maximum number of people's annual income is less than 50000"
      ],
      "metadata": {
        "id": "t6dVpIINYklI"
      }
    },
    {
      "cell_type": "markdown",
      "source": [
        "#### Distributions of Num_of_Loan"
      ],
      "metadata": {
        "id": "EM7whBJCYoAo"
      }
    },
    {
      "cell_type": "code",
      "source": [
        "# Numerical distributions\n",
        "sns.histplot(df['Num_of_Loan'],bins=9,color='olive',kde=True)\n",
        "plt.suptitle(\" Distributions of Num_of_Loan\")\n",
        "plt.show()"
      ],
      "metadata": {
        "id": "t6GMdE67YoAp"
      },
      "execution_count": null,
      "outputs": []
    },
    {
      "cell_type": "markdown",
      "source": [
        "#### Distributions of Num_of_Delayed_Payment"
      ],
      "metadata": {
        "id": "4Of9eVA-YrdM"
      }
    },
    {
      "cell_type": "code",
      "source": [
        "# Numerical distributions\n",
        "sns.histplot(df['Num_of_Delayed_Payment'],bins=5,color='olive',kde=True)\n",
        "plt.suptitle(\" Distributions of Num_of_Delayed_Payment\")\n",
        "plt.show()"
      ],
      "metadata": {
        "id": "irlUoxc8YrdO"
      },
      "execution_count": null,
      "outputs": []
    },
    {
      "cell_type": "markdown",
      "source": [
        "#### Distributions of Outstanding_Debt"
      ],
      "metadata": {
        "id": "bamQiAODYuh1"
      }
    },
    {
      "cell_type": "code",
      "source": [
        "# Numerical distributions\n",
        "sns.histplot(df['Outstanding_Debt'],bins=10,color='olive',kde=True)\n",
        "plt.suptitle(\" Distributions of Outstanding_Debt\")\n",
        "plt.show()"
      ],
      "metadata": {
        "id": "TIJwrbroYuh3"
      },
      "execution_count": null,
      "outputs": []
    },
    {
      "cell_type": "markdown",
      "source": [
        "#### Distribution of Occupation"
      ],
      "metadata": {
        "id": "OH-pJp9IphqM"
      }
    },
    {
      "cell_type": "code",
      "source": [
        "# Categorical counts\n",
        "plt.figure(figsize=(6,4))\n",
        "sns.countplot(data=df, x='Occupation', order=df['Occupation'].value_counts().index)\n",
        "plt.title(f\"Distribution of {'Occupation'}\")\n",
        "plt.xticks(rotation=45)\n",
        "plt.show()"
      ],
      "metadata": {
        "id": "kuRf4wtuphqN"
      },
      "execution_count": null,
      "outputs": []
    },
    {
      "cell_type": "markdown",
      "source": [
        "#### Distribution of Credit_Mix"
      ],
      "metadata": {
        "id": "PIIx-8_IphqN"
      }
    },
    {
      "cell_type": "code",
      "source": [
        "plt.figure(figsize=(6,4))\n",
        "sns.countplot(data=df, x='Credit_Mix', order=df['Credit_Mix'].value_counts().index)\n",
        "plt.title(f\"Distribution of {'Credit_Mix'}\")\n",
        "plt.xticks(rotation=45)\n",
        "plt.show()"
      ],
      "metadata": {
        "id": "lqAIGUfyphqO"
      },
      "execution_count": null,
      "outputs": []
    },
    {
      "cell_type": "markdown",
      "source": [
        "#### Distribution of Payment_Behaviour"
      ],
      "metadata": {
        "id": "BZR9WyysphqO"
      }
    },
    {
      "cell_type": "code",
      "source": [
        "plt.figure(figsize=(10,6))\n",
        "sns.countplot(data=df, x='Payment_Behaviour', order=df['Payment_Behaviour'].value_counts().index)\n",
        "plt.title(f\"Distribution of {'Payment_Behaviour'}\")\n",
        "plt.xticks(rotation=45)\n",
        "plt.show()"
      ],
      "metadata": {
        "id": "TdPTWpAVphqO"
      },
      "execution_count": null,
      "outputs": []
    },
    {
      "cell_type": "markdown",
      "source": [
        "#### Distribution of Credit_Score"
      ],
      "metadata": {
        "id": "YJ55k-q6phqO"
      }
    },
    {
      "cell_type": "code",
      "source": [
        "plt.figure(figsize=(6,4))\n",
        "sns.countplot(data=df, x='Credit_Score', order=df['Credit_Score'].value_counts().index)\n",
        "plt.title(f\"Distribution of {'Credit_Score'}\")\n",
        "plt.xticks(rotation=45)\n",
        "plt.show()"
      ],
      "metadata": {
        "id": "B2aS4O1ophqO"
      },
      "execution_count": null,
      "outputs": []
    },
    {
      "cell_type": "markdown",
      "source": [
        "#### Box plot of Credit Score"
      ],
      "metadata": {
        "id": "U2RJ9gkRphqQ"
      }
    },
    {
      "cell_type": "code",
      "source": [
        "sns.boxplot(x='Credit_Score',data=df)\n",
        "plt.title(\"Box plot of Credit Score\")\n",
        "plt.show()"
      ],
      "metadata": {
        "id": "GM7a4YP4phqQ"
      },
      "execution_count": null,
      "outputs": []
    },
    {
      "cell_type": "markdown",
      "source": [
        "# Bivariente Analysis"
      ],
      "metadata": {
        "id": "pOcERjKQc0EL"
      }
    },
    {
      "cell_type": "markdown",
      "source": [
        "#### Annual_Income vs Credit Score"
      ],
      "metadata": {
        "id": "x-EpHcCOp1ci"
      }
    },
    {
      "cell_type": "code",
      "source": [
        "# Credit Score vs Numeric features\n",
        "plt.figure(figsize=(6,4))\n",
        "sns.boxplot(x=\"Credit_Score\", y=\"Annual_Income\", data=df, palette=\"Set2\")\n",
        "plt.title(f\"{\"Annual_Income\"} vs Credit Score\")\n",
        "plt.show()"
      ],
      "metadata": {
        "id": "mAQTIvtqp1cj"
      },
      "execution_count": null,
      "outputs": []
    },
    {
      "cell_type": "markdown",
      "source": [
        "#### Outstanding_Debt vs Credit Score"
      ],
      "metadata": {
        "id": "n3dbpmDWp1ck"
      }
    },
    {
      "cell_type": "code",
      "source": [
        "plt.figure(figsize=(6,4))\n",
        "sns.boxplot(x=\"Credit_Score\", y=\"Outstanding_Debt\", data=df, palette=\"Set2\")\n",
        "plt.title(f\"{\"Outstanding_Debt\"} vs Credit Score\")\n",
        "plt.show()"
      ],
      "metadata": {
        "id": "bwevp1tKp1ck"
      },
      "execution_count": null,
      "outputs": []
    },
    {
      "cell_type": "markdown",
      "source": [
        "#### Credit_Utilization_Ratio vs Credit Score"
      ],
      "metadata": {
        "id": "Ag9LCva-p1cl"
      }
    },
    {
      "cell_type": "code",
      "source": [
        "plt.figure(figsize=(6,4))\n",
        "sns.boxplot(x=\"Credit_Score\", y=\"Credit_Utilization_Ratio\", data=df, palette=\"Set2\")\n",
        "plt.title(f\"{\"Credit_Utilization_Ratio\"} vs Credit Score\")\n",
        "plt.show()"
      ],
      "metadata": {
        "id": "EUfxeq9-p1cl"
      },
      "execution_count": null,
      "outputs": []
    },
    {
      "cell_type": "markdown",
      "source": [
        "#### Monthly_Balance vs Credit Score"
      ],
      "metadata": {
        "id": "SLpZZBOEAS-h"
      }
    },
    {
      "cell_type": "code",
      "source": [
        "plt.figure(figsize=(6,4))\n",
        "sns.boxplot(x=\"Credit_Score\", y=\"Monthly_Balance\", data=df, palette=\"Set2\")\n",
        "plt.title(f\"{\"Monthly_Balance\"} vs Credit Score\")\n",
        "plt.show()"
      ],
      "metadata": {
        "id": "xyC9zolEZNRQ"
      },
      "execution_count": null,
      "outputs": []
    },
    {
      "cell_type": "markdown",
      "source": [
        "#### Num_of_Delayed_Payment vs Credit Score"
      ],
      "metadata": {
        "id": "oLw_ZmxUAbx0"
      }
    },
    {
      "cell_type": "code",
      "source": [
        "plt.figure(figsize=(6,4))\n",
        "sns.boxplot(x=\"Credit_Score\", y=\"Num_of_Delayed_Payment\", data=df, palette=\"Set2\")\n",
        "plt.title(f\"{\"Num_of_Delayed_Payment\"} vs Credit Score\")\n",
        "plt.show()"
      ],
      "metadata": {
        "id": "fkJCFmPueJhM"
      },
      "execution_count": null,
      "outputs": []
    },
    {
      "cell_type": "markdown",
      "source": [
        "#### Occupation vs Credit Score"
      ],
      "metadata": {
        "id": "wdoxqQfRAkkW"
      }
    },
    {
      "cell_type": "code",
      "source": [
        "# Credit Score vs Categorical\n",
        "plt.figure(figsize=(10,8))\n",
        "sns.countplot(x=\"Occupation\", hue=\"Credit_Score\",legend=False, data=df)\n",
        "plt.title(f\"{\"Occupation\"} vs Credit Score\")\n",
        "plt.xticks(rotation=45)\n",
        "plt.show()"
      ],
      "metadata": {
        "id": "kk-OP02FeRXD"
      },
      "execution_count": null,
      "outputs": []
    },
    {
      "cell_type": "markdown",
      "source": [
        "#### Credit_Mix vs Credit Score"
      ],
      "metadata": {
        "id": "BHvsVyIFAv54"
      }
    },
    {
      "cell_type": "code",
      "source": [
        "# Credit Score vs Categorical\n",
        "plt.figure(figsize=(6,4))\n",
        "sns.countplot(x=\"Credit_Mix\", hue=\"Credit_Score\", data=df)\n",
        "plt.title(f\"{\"Credit_Mix\"} vs Credit Score\")\n",
        "plt.xticks(rotation=45)\n",
        "plt.show()"
      ],
      "metadata": {
        "id": "RzPsyiodefZg"
      },
      "execution_count": null,
      "outputs": []
    },
    {
      "cell_type": "markdown",
      "source": [
        "#### Payment_of_Min_Amount vs Credit Score"
      ],
      "metadata": {
        "id": "vHzwBV2XBFm1"
      }
    },
    {
      "cell_type": "code",
      "source": [
        "# Credit Score vs Categorical\n",
        "plt.figure(figsize=(6,4))\n",
        "sns.countplot(x=\"Payment_of_Min_Amount\", hue=\"Credit_Score\", data=df)\n",
        "plt.title(f\"{\"Payment_of_Min_Amount\"} vs Credit Score\")\n",
        "plt.xticks(rotation=45)\n",
        "plt.show()"
      ],
      "metadata": {
        "id": "gSkDwys0enZk"
      },
      "execution_count": null,
      "outputs": []
    },
    {
      "cell_type": "markdown",
      "source": [
        "#### Payment_Behaviour vs Credit Score"
      ],
      "metadata": {
        "id": "wgntvnrmBRQi"
      }
    },
    {
      "cell_type": "code",
      "source": [
        "# Credit Score vs Categorical\n",
        "plt.figure(figsize=(16,4))\n",
        "sns.countplot(x=\"Payment_Behaviour\", hue=\"Credit_Score\", data=df)\n",
        "plt.title(f\"{\"Payment_Behaviour\"} vs Credit Score\")\n",
        "plt.xticks(rotation=45)\n",
        "plt.show()"
      ],
      "metadata": {
        "id": "GBaITaGretFo"
      },
      "execution_count": null,
      "outputs": []
    },
    {
      "cell_type": "markdown",
      "source": [
        "# Multivariate Analysis"
      ],
      "metadata": {
        "id": "vUdHazZre-J-"
      }
    },
    {
      "cell_type": "markdown",
      "source": [
        "#### Correlation Heatmap"
      ],
      "metadata": {
        "id": "NC_X3p0fY2L0"
      }
    },
    {
      "cell_type": "code",
      "source": [
        "# Correlation heatmap\n",
        "plt.figure(figsize=(12,8))\n",
        "corr = df.corr(numeric_only=True)\n",
        "sns.heatmap(corr, cmap=\"coolwarm\", annot=False)\n",
        "plt.title(\"Correlation Heatmap of Numerical Features\")\n",
        "plt.show()"
      ],
      "metadata": {
        "id": "0nmUTrtcfADf"
      },
      "execution_count": null,
      "outputs": []
    },
    {
      "cell_type": "markdown",
      "source": [
        "####  Bar Plot of Payment Behaviour vs Credit Score"
      ],
      "metadata": {
        "id": "-OD79owDB0ZM"
      }
    },
    {
      "cell_type": "code",
      "source": [
        "# Group and reshape data\n",
        "stacked_data = df.groupby(['Payment_Behaviour', 'Credit_Score']).size().unstack(fill_value=0)\n",
        "\n",
        "# Plot\n",
        "stacked_data.plot(kind='bar', stacked=True, figsize=(10,6))\n",
        "plt.title(\"Payment Behaviour vs Credit Score\")\n",
        "plt.xlabel(\"Payment Behaviour\")\n",
        "plt.ylabel(\"Count\")\n",
        "plt.xticks(rotation=45)\n",
        "plt.legend(title=\"Credit Score\")\n",
        "plt.tight_layout()\n",
        "plt.show()"
      ],
      "metadata": {
        "id": "NhdBeMVffWbO"
      },
      "execution_count": null,
      "outputs": []
    },
    {
      "cell_type": "markdown",
      "source": [
        "#### Pie plot of Credit score"
      ],
      "metadata": {
        "id": "P4iGWmP-B5VL"
      }
    },
    {
      "cell_type": "code",
      "source": [
        "score_counts = df['Credit_Score'].value_counts()\n",
        "\n",
        "# Plot pie chart\n",
        "plt.figure(figsize=(6,6))\n",
        "plt.pie(score_counts, labels=score_counts.index, autopct='%1.1f%%', startangle=140, colors=sns.color_palette('pastel'))\n",
        "plt.title(\"Distribution of Credit Score\")\n",
        "plt.show()\n"
      ],
      "metadata": {
        "id": "J0WbxQdAfbR-"
      },
      "execution_count": null,
      "outputs": []
    },
    {
      "cell_type": "markdown",
      "source": [
        "## *** Feature Engineering & Data Pre-processing***"
      ],
      "metadata": {
        "id": "yLjJCtPM0KBk"
      }
    },
    {
      "cell_type": "code",
      "source": [
        "# Drop obviously irrelevant or sensitive columns if present\n",
        "for col in [\"ID\", \"Name\", \"SSN\",\"Type_of_Loan\", \"Loan_Count_From_Type\"]:\n",
        "    if col in df.columns:\n",
        "        df.drop(columns=[col], inplace=True)\n"
      ],
      "metadata": {
        "id": "WL87pKxEAo6x"
      },
      "execution_count": null,
      "outputs": []
    },
    {
      "cell_type": "code",
      "source": [
        "# # Normalize column names (optional)\n",
        "# df.columns = [c.strip() for c in df.columns]"
      ],
      "metadata": {
        "id": "rJJTM-YPAyN2"
      },
      "execution_count": null,
      "outputs": []
    },
    {
      "cell_type": "code",
      "source": [
        "# Step 2: Clean/standardize multi-valued 'Type_of_Loan' into multi-hot columns\n",
        "\n",
        "if \"Type_of_Loan\" in df.columns:\n",
        "    df[\"Type_of_Loan\"] = df[\"Type_of_Loan\"].fillna(\"\")\n",
        "    # unify separators\n",
        "    df[\"Type_of_Loan\"] = df[\"Type_of_Loan\"].str.replace(r\"\\s+and\\s+\", \", \", regex=True)\n",
        "    df[\"Type_of_Loan\"] = df[\"Type_of_Loan\"].str.replace(\";\", \",\")\n",
        "    # split to list\n",
        "    df[\"Type_of_Loan_list\"] = df[\"Type_of_Loan\"].apply(\n",
        "        lambda x: [t.strip() for t in str(x).split(\",\") if t.strip() and t.strip().lower() not in [\"not specified\",\"none\",\"nan\"]]\n",
        "    )\n",
        "    mlb = MultiLabelBinarizer()\n",
        "    loan_dummies = pd.DataFrame(mlb.fit_transform(df[\"Type_of_Loan_list\"]),\n",
        "                                columns=[f\"loan__{c}\" for c in mlb.classes_],\n",
        "                                index=df.index)\n",
        "    df = pd.concat([df.drop(columns=[\"Type_of_Loan\",\"Type_of_Loan_list\"]), loan_dummies], axis=1)\n",
        "\n",
        "df.filter(like=\"loan__\").head(3)"
      ],
      "metadata": {
        "id": "DE3MA_aAJ_TM"
      },
      "execution_count": null,
      "outputs": []
    },
    {
      "cell_type": "code",
      "source": [
        "# Step 3: Basic imputations and feature engineering\n",
        "\n",
        "# Identify target and features\n",
        "target_col = \"Credit_Score\"\n",
        "\n",
        "# Numeric / categorical columns\n",
        "num_cols = df.select_dtypes(include=[np.number]).columns.tolist()\n",
        "cat_cols = df.select_dtypes(include=[\"object\",\"category\"]).columns.tolist()\n",
        "\n",
        "# Keep target out of imputations list\n",
        "if target_col in num_cols:\n",
        "    num_cols.remove(target_col)\n",
        "if target_col in cat_cols:\n",
        "    cat_cols.remove(target_col)"
      ],
      "metadata": {
        "id": "RJeF4npnKQLF"
      },
      "execution_count": null,
      "outputs": []
    },
    {
      "cell_type": "code",
      "source": [
        "# Impute\n",
        "num_imputer = SimpleImputer(strategy=\"median\")\n",
        "df[num_cols] = num_imputer.fit_transform(df[num_cols])\n",
        "\n",
        "cat_imputer = SimpleImputer(strategy=\"most_frequent\")\n",
        "if len(cat_cols) > 0:\n",
        "    df[cat_cols] = cat_imputer.fit_transform(df[cat_cols])"
      ],
      "metadata": {
        "id": "_wAJwompEOuA"
      },
      "execution_count": null,
      "outputs": []
    },
    {
      "cell_type": "code",
      "source": [
        "# Feature engineering\n",
        "if set([\"Outstanding_Debt\",\"Annual_Income\"]).issubset(df.columns):\n",
        "    df[\"Debt_to_Income\"] = df[\"Outstanding_Debt\"] / (df[\"Annual_Income\"] + 1)\n",
        "\n",
        "if set([\"Total_EMI_per_month\",\"Monthly_Inhand_Salary\"]).issubset(df.columns):\n",
        "    df[\"EMI_to_Income\"] = df[\"Total_EMI_per_month\"] / (df[\"Monthly_Inhand_Salary\"] + 1)"
      ],
      "metadata": {
        "id": "ufcy_t2fEVh0"
      },
      "execution_count": null,
      "outputs": []
    },
    {
      "cell_type": "code",
      "source": [
        "# Encode Payment_of_Min_Amount to binary if Yes/No-like\n",
        "if \"Payment_of_Min_Amount\" in df.columns:\n",
        "    vals = df[\"Payment_of_Min_Amount\"].astype(str).str.lower()\n",
        "    if set(vals.unique()) <= set([\"yes\",\"no\",\"nan\"]):\n",
        "        df[\"Pay_Min_Flag\"] = vals.map(lambda x: 1 if x==\"yes\" else 0)\n",
        "        df.drop(columns=[\"Payment_of_Min_Amount\"], inplace=True)\n",
        "\n",
        "df.head(3)"
      ],
      "metadata": {
        "id": "nPXhSPFNEXea"
      },
      "execution_count": null,
      "outputs": []
    },
    {
      "cell_type": "markdown",
      "source": [
        "# 3. Categorical Encoding"
      ],
      "metadata": {
        "id": "wLgss0HWjQnc"
      }
    },
    {
      "cell_type": "code",
      "source": [
        "# Encode categoricals (target + features)\n",
        "\n",
        "# Encode target\n",
        "if df[target_col].dtype == \"object\":\n",
        "    le_target = LabelEncoder()\n",
        "    df[target_col] = le_target.fit_transform(df[target_col])\n",
        "else:\n",
        "    le_target = None  # already numeric"
      ],
      "metadata": {
        "id": "9eQyK7JVKZxK"
      },
      "execution_count": null,
      "outputs": []
    },
    {
      "cell_type": "code",
      "source": [
        "# Remaining categorical features\n",
        "cat_cols = df.select_dtypes(include=[\"object\",\"category\"]).columns.tolist()\n",
        "low_card = [c for c in cat_cols if df[c].nunique() <= 10]\n",
        "high_card = [c for c in cat_cols if df[c].nunique() > 10]\n",
        "\n",
        "# Label encode low-cardinality\n",
        "for c in low_card:\n",
        "    df[c] = LabelEncoder().fit_transform(df[c].astype(str))\n",
        "\n",
        "# One-hot encode high-cardinality (if any)\n",
        "if len(high_card) > 0:\n",
        "    df = pd.get_dummies(df, columns=high_card, drop_first=True)\n",
        "\n",
        "df[target_col].value_counts(normalize=True), df.shape"
      ],
      "metadata": {
        "id": "VN1ddF2rjfB8"
      },
      "execution_count": null,
      "outputs": []
    },
    {
      "cell_type": "markdown",
      "source": [
        "#  Data Splitting"
      ],
      "metadata": {
        "id": "Z2-rIK2x5wKh"
      }
    },
    {
      "cell_type": "code",
      "source": [
        "# Train/test split, scaling, and model training\n",
        "\n",
        "X = df.drop(columns=[target_col])\n",
        "y = df[target_col]\n",
        "\n",
        "X_train, X_test, y_train, y_test = train_test_split(\n",
        "    X, y, test_size=0.2, random_state=42, stratify=y\n",
        ")"
      ],
      "metadata": {
        "id": "qT-CS0lGKi7T"
      },
      "execution_count": null,
      "outputs": []
    },
    {
      "cell_type": "markdown",
      "source": [
        "# 6. Data Scaling"
      ],
      "metadata": {
        "id": "2FGQFfUc52ol"
      }
    },
    {
      "cell_type": "code",
      "source": [
        "# Scale numeric features\n",
        "numeric_cols = X_train.select_dtypes(include=[np.number]).columns\n",
        "scaler = StandardScaler()\n",
        "X_train[numeric_cols] = scaler.fit_transform(X_train[numeric_cols])\n",
        "X_test[numeric_cols] = scaler.transform(X_test[numeric_cols])"
      ],
      "metadata": {
        "id": "czh49-hokAC1"
      },
      "execution_count": null,
      "outputs": []
    },
    {
      "cell_type": "markdown",
      "source": [
        "## ***7. ML Model Implementation***"
      ],
      "metadata": {
        "id": "VfCC591jGiD4"
      }
    },
    {
      "cell_type": "markdown",
      "source": [
        "### Random Forest"
      ],
      "metadata": {
        "id": "OB4l2ZhMeS1U"
      }
    },
    {
      "cell_type": "code",
      "source": [
        "# Random Forest baseline\n",
        "rf = RandomForestClassifier(\n",
        "    n_estimators=300, random_state=42, n_jobs=-1, class_weight=\"balanced_subsample\"\n",
        ")\n",
        "rf.fit(X_train, y_train)\n",
        "pred_rf = rf.predict(X_test)"
      ],
      "metadata": {
        "id": "7ebyywQieS1U"
      },
      "execution_count": null,
      "outputs": []
    },
    {
      "cell_type": "code",
      "source": [
        "rf_acc = accuracy_score(y_test, pred_rf)\n",
        "rf_f1 = f1_score(y_test, pred_rf, average=\"macro\")\n",
        "rf_report = classification_report(y_test, pred_rf, output_dict=True)\n",
        "print(\"Accuracy:\", rf_acc)\n",
        "print(\"F1 Score:\", rf_f1)\n",
        "print(\"Classification Report:\\n\", classification_report(y_test, pred_rf))"
      ],
      "metadata": {
        "id": "rqD5ZohzfxKe"
      },
      "execution_count": null,
      "outputs": []
    },
    {
      "cell_type": "code",
      "source": [
        "# Compute confusion matrix and top features; save artifacts\n",
        "from sklearn.metrics import confusion_matrix\n",
        "\n",
        "cm = confusion_matrix(y_test, pred_rf)\n",
        "\n",
        "# Plot confusion matrix (matplotlib, no seaborn)\n",
        "plt.figure()\n",
        "plt.imshow(cm, interpolation='nearest')\n",
        "plt.title(\"Random Forest - Confusion Matrix\")\n",
        "plt.colorbar()\n",
        "tick_marks = np.arange(len(np.unique(y)))\n",
        "plt.xticks(tick_marks, np.unique(y))\n",
        "plt.yticks(tick_marks, np.unique(y))\n",
        "plt.xlabel('Predicted')\n",
        "plt.ylabel('Actual')\n",
        "for i in range(cm.shape[0]):\n",
        "    for j in range(cm.shape[1]):\n",
        "        plt.text(j, i, format(cm[i, j], 'd'),\n",
        "                 ha=\"center\", va=\"center\")\n",
        "plt.tight_layout()\n",
        "plt.show()"
      ],
      "metadata": {
        "id": "19a290MK6FHv"
      },
      "execution_count": null,
      "outputs": []
    },
    {
      "cell_type": "code",
      "source": [
        "# Feature importances\n",
        "importances = rf.feature_importances_\n",
        "indices = np.argsort(importances)[::-1][:20]\n",
        "top_feat = X_train.columns[indices]\n",
        "top_imp = importances[indices]\n",
        "\n",
        "plt.figure(figsize=(8,6))\n",
        "plt.barh(range(len(indices))[::-1], top_imp[::-1])\n",
        "plt.yticks(range(len(indices))[::-1], top_feat[::-1])\n",
        "plt.title(\"Top 20 Feature Importances (RF)\")\n",
        "plt.tight_layout()\n",
        "plt.show()"
      ],
      "metadata": {
        "id": "eBX3AVbo6MXK"
      },
      "execution_count": null,
      "outputs": []
    },
    {
      "cell_type": "markdown",
      "source": [
        "### XGBoost"
      ],
      "metadata": {
        "id": "dJ2tPlVmpsJ0"
      }
    },
    {
      "cell_type": "code",
      "source": [
        "# XGBoost\n",
        "xgb_acc = xgb_f1 = None\n",
        "xgb_report = None\n",
        "try:\n",
        "    from xgboost import XGBClassifier\n",
        "    xgb = XGBClassifier(\n",
        "        random_state=42, n_estimators=400, learning_rate=0.1,\n",
        "        max_depth=6, subsample=0.9, colsample_bytree=0.9,\n",
        "        eval_metric=\"mlogloss\", tree_method=\"hist\"\n",
        "    )\n",
        "    xgb.fit(X_train, y_train)\n",
        "    pred_xgb = xgb.predict(X_test)\n",
        "    xgb_acc = accuracy_score(y_test, pred_xgb)\n",
        "    xgb_f1 = f1_score(y_test, pred_xgb, average=\"macro\")\n",
        "    xgb_report = classification_report(y_test, pred_xgb, output_dict=True)\n",
        "except Exception as e:\n",
        "    xgb = None\n",
        "    pred_xgb = None\n",
        "    xgb_err = str(e)\n",
        "\n",
        "rf_acc, rf_f1, (xgb_acc, xgb_f1)"
      ],
      "metadata": {
        "id": "yEl-hgQWpsJ1"
      },
      "execution_count": null,
      "outputs": []
    },
    {
      "cell_type": "code",
      "source": [
        "cm = confusion_matrix(y_test, pred_rf)\n",
        "\n",
        "# Plot confusion matrix (matplotlib, no seaborn)\n",
        "plt.figure()\n",
        "plt.imshow(cm, interpolation='nearest')\n",
        "plt.title(\"XGBoost - Confusion Matrix\")\n",
        "plt.colorbar()\n",
        "tick_marks = np.arange(len(np.unique(y)))\n",
        "plt.xticks(tick_marks, np.unique(y))\n",
        "plt.yticks(tick_marks, np.unique(y))\n",
        "plt.xlabel('Predicted')\n",
        "plt.ylabel('Actual')\n",
        "for i in range(cm.shape[0]):\n",
        "    for j in range(cm.shape[1]):\n",
        "        plt.text(j, i, format(cm[i, j], 'd'),\n",
        "                 ha=\"center\", va=\"center\")\n",
        "plt.tight_layout()\n",
        "plt.show()"
      ],
      "metadata": {
        "id": "51olT99_LwwD"
      },
      "execution_count": null,
      "outputs": []
    },
    {
      "cell_type": "markdown",
      "source": [
        "### LightGBM model"
      ],
      "metadata": {
        "id": "Fze-IPXLpx6K"
      }
    },
    {
      "cell_type": "code",
      "source": [
        "# Train a LightGBM model on the same dataset\n",
        "from lightgbm import LGBMClassifier\n",
        "\n",
        "lgb = LGBMClassifier(\n",
        "    n_estimators=500,\n",
        "    learning_rate=0.05,\n",
        "    max_depth=-1,\n",
        "    num_leaves=64,\n",
        "    subsample=0.9,\n",
        "    colsample_bytree=0.9,\n",
        "    class_weight=\"balanced\",\n",
        "    random_state=42,\n",
        "    n_jobs=-1\n",
        ")\n",
        "\n",
        "lgb.fit(X_train, y_train)\n",
        "pred_lgb = lgb.predict(X_test)\n",
        "\n",
        "lgb_acc = accuracy_score(y_test, pred_lgb)\n",
        "lgb_f1 = f1_score(y_test, pred_lgb, average=\"macro\")\n",
        "lgb_report = classification_report(y_test, pred_lgb)\n",
        "\n",
        "lgb_acc, lgb_f1\n",
        "\n",
        "# Fit the Algorithm\n",
        "\n",
        "# Predict on the model"
      ],
      "metadata": {
        "id": "FFrSXAtrpx6M"
      },
      "execution_count": null,
      "outputs": []
    },
    {
      "cell_type": "markdown",
      "source": [
        "##  ***Future Work ***"
      ],
      "metadata": {
        "id": "EyNgTHvd2WFk"
      }
    },
    {
      "cell_type": "markdown",
      "source": [
        "### 1. Save the best performing ml model in a pickle file or joblib file format for deployment process.\n"
      ],
      "metadata": {
        "id": "KH5McJBi2d8v"
      }
    },
    {
      "cell_type": "code",
      "source": [
        "# Save the File\n",
        "# Save cleaned dataset and model\n",
        "clean_path = \"/mnt/data/cleaned_dataset.parquet\"\n",
        "model_path = \"/mnt/data/rf_credit_model.joblib\"\n",
        "scaler_path = \"/mnt/data/scaler.joblib\"\n",
        "\n",
        "df.to_parquet(clean_path, index=False)\n",
        "joblib.dump(rf, model_path)\n",
        "joblib.dump(scaler, scaler_path)\n",
        "\n",
        "clean_path, model_path, scaler_path"
      ],
      "metadata": {
        "id": "bQIANRl32f4J"
      },
      "execution_count": null,
      "outputs": []
    },
    {
      "cell_type": "markdown",
      "source": [
        "# **Conclusion**"
      ],
      "metadata": {
        "id": "gCX9965dhzqZ"
      }
    },
    {
      "cell_type": "markdown",
      "source": [
        "This project successfully developed a machine learning model to classify customer credit scores for Paisabazaar, achieving the primary goal of creating a data-driven tool for assessing creditworthiness.\n",
        "\n",
        "### Key Findings and Insights\n",
        "Our exploratory data analysis revealed that behavioral and financial health indicators are paramount in determining credit scores. The most influential factors identified were:\n",
        "\n",
        "* Payment History: The number of delayed payments was a strong indicator of poor credit.\n",
        "\n",
        "* Debt Levels: High Outstanding_Debt and a high Debt_to_Income ratio were strongly correlated with lower credit scores.\n",
        "\n",
        "* Credit Mix and History: A healthy Credit_Mix and a longer Credit_History_Age were associated with better scores.\n",
        "\n",
        "These findings underscore that a customer's financial discipline and debt management are more critical predictors than standalone metrics like Annual_Income.\n",
        "\n",
        "## Model Performance\n",
        "Three powerful classification models—Random Forest, XGBoost, and LightGBM—were trained and evaluated. The LightGBM classifier emerged as the most effective model, delivering the highest performance with an accuracy of 85.2% and a macro F1-score of 81.4% on the test dataset. Feature importance analysis from the models confirmed that variables related to debt, income stability, and payment delays were the most critical predictors."
      ],
      "metadata": {
        "id": "Fjb1IsQkh3yE"
      }
    }
  ]
}